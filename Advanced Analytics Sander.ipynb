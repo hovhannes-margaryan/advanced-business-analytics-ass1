{
 "cells": [
  {
   "cell_type": "code",
   "execution_count": null,
   "metadata": {},
   "outputs": [],
   "source": []
  },
  {
   "cell_type": "code",
   "execution_count": 2,
   "metadata": {},
   "outputs": [],
   "source": [
    "\n",
    "import shap\n",
    "import xgboost\n",
    "import numpy as np\n",
    "import pandas as pd\n",
    "import statsmodels.api as sm\n",
    "import category_encoders as ce\n",
    "\n",
    "from category_encoders import CountEncoder\n",
    "from category_encoders import WOEEncoder\n",
    "\n",
    "from geopy.geocoders import Nominatim\n",
    "\n",
    "from sklearn import preprocessing\n",
    "from matplotlib import pyplot as plt\n",
    "from sklearn.model_selection import train_test_split\n",
    "from sklearn.experimental import enable_iterative_imputer\n",
    "from sklearn.impute import IterativeImputer\n",
    "from sklearn.decomposition import PCA\n",
    "\n",
    "pd.set_option('display.float_format', lambda x: '%.3f' % x)"
   ]
  },
  {
   "cell_type": "code",
   "execution_count": 3,
   "metadata": {},
   "outputs": [],
   "source": [
    "df_raw = pd.read_csv(\"train.csv\")"
   ]
  },
  {
   "cell_type": "code",
   "execution_count": 4,
   "metadata": {},
   "outputs": [
    {
     "data": {
      "text/plain": [
       "Index(['property_id', 'property_name', 'property_summary', 'property_space',\n",
       "       'property_desc', 'property_neighborhood', 'property_notes',\n",
       "       'property_transit', 'property_access', 'property_interaction',\n",
       "       'property_rules', 'property_zipcode', 'property_lat', 'property_lon',\n",
       "       'property_type', 'property_room_type', 'property_max_guests',\n",
       "       'property_bathrooms', 'property_bedrooms', 'property_beds',\n",
       "       'property_bed_type', 'property_amenities', 'property_sqfeet',\n",
       "       'property_scraped_at', 'property_last_updated', 'host_id', 'host_since',\n",
       "       'host_location', 'host_about', 'host_response_time',\n",
       "       'host_response_rate', 'host_nr_listings', 'host_nr_listings_total',\n",
       "       'host_verified', 'booking_price_covers', 'booking_min_nights',\n",
       "       'booking_max_nights', 'booking_availability_30',\n",
       "       'booking_availability_60', 'booking_availability_90',\n",
       "       'booking_availability_365', 'booking_cancel_policy', 'reviews_num',\n",
       "       'reviews_first', 'reviews_last', 'reviews_rating', 'reviews_acc',\n",
       "       'reviews_cleanliness', 'reviews_checkin', 'reviews_communication',\n",
       "       'reviews_location', 'reviews_value', 'reviews_per_month', 'extra',\n",
       "       'target'],\n",
       "      dtype='object')"
      ]
     },
     "execution_count": 4,
     "metadata": {},
     "output_type": "execute_result"
    }
   ],
   "source": [
    "df_raw.columns"
   ]
  },
  {
   "attachments": {},
   "cell_type": "markdown",
   "metadata": {},
   "source": [
    "Featurization: \n",
    "host location: \n",
    "    =>extract city and country: first and last of string separated by comma\n",
    "    => Bolean if same city as property\n",
    "    =>Boolean if same country as property\n",
    "revieuws: recency\n",
    "zip code, long and lat\n",
    "    => find city and country to check if same as host: boolean columns https://pypi.org/project/pgeocode/\n",
    "    https://stackoverflow.com/questions/69409255/how-to-get-city-state-and-country-from-a-list-of-latitude-and-longitude-coordi\n",
    "    OR find long lat of host and estimate the distance to the property\n",
    "    => could even find distance to city centre using these methods\n",
    "    => use use counts in data or weights of evidence to encode these https://contrib.scikit-learn.org/category_encoders/count.html#\n",
    "    => maybe find a way of combining the three: the are obviously correlated!! \n",
    "    => start by using the zip code, then, the location within a city becomes important=> maybe \n",
    "    => or use one or the other and see which one is better\n",
    "property_type=many categories: words may mean the same thing in different areas\n",
    "    => categorize them or use weights of evidence etc\n",
    "property_room_type: categorize\n",
    "property beds, etc: max_guests or beds/ bedrooms or bathrooms or square feet=> difference between dormitory and luxurious apartment\n",
    "scraped_at&last updated: find time since\n",
    "host since: find time since\n",
    "host location: City=> Bolean if same location as property\n",
    "\n",
    "\n",
    "'booking_availability_30'... obviously highly correlated: could also use a ration to get it between 0 and 1 => beta's for all durations are comparable\n",
    "may want to use some form of word mining to get the most out of the descriptions. But I'll skip for now\n",
    "\n",
    "booking_cancel_policy: turn categories into numbers, order is important"
   ]
  },
  {
   "cell_type": "code",
   "execution_count": 9,
   "metadata": {},
   "outputs": [
    {
     "name": "stdout",
     "output_type": "stream",
     "text": [
      "['flexible' 'moderate' 'strict' 'super_strict_30']\n"
     ]
    }
   ],
   "source": [
    "print(df_raw['booking_cancel_policy'].unique())"
   ]
  },
  {
   "attachments": {},
   "cell_type": "markdown",
   "metadata": {},
   "source": [
    "This creates a column for recency. Can be used for each date since column"
   ]
  },
  {
   "cell_type": "code",
   "execution_count": null,
   "metadata": {},
   "outputs": [],
   "source": [
    "# Define a lambda function to calculate the recency of each date value\n",
    "recency_func = lambda x: (pd.datetime.today() - x).days\n",
    "\n",
    "# Convert the 'date' column to a datetime object\n",
    "df_raw['reviews_last'] = pd.to_datetime(df_raw['reviews_last'])\n",
    "# Apply the lambda function to the 'date' column to create a new 'recency' column\n",
    "df_raw['recency'] = df_raw['reviews_last'].apply(recency_func)\n"
   ]
  },
  {
   "attachments": {},
   "cell_type": "markdown",
   "metadata": {},
   "source": [
    "Creating recency variables\n",
    "#also add scraped_at...."
   ]
  },
  {
   "cell_type": "code",
   "execution_count": null,
   "metadata": {},
   "outputs": [],
   "source": [
    "recency_variables=[\"reviews_last\" ,\"reviews_first\" ,\"host_since\"]\n",
    "recency_columns=[\"recency_\"+ i for i in recency_variables]\n",
    "print(recency_variables)\n",
    "print(recency_columns)\n",
    "\n",
    "for var, new_var in zip(recency_variables, recency_columns):\n",
    "    df_raw[var] = pd.to_datetime(df_raw[var])\n",
    "    recency_func = lambda x: (pd.datetime.today() - x).days\n",
    "    df_raw[new_var] = df_raw[var].apply(recency_func)\n",
    "    print(df_raw[new_var].head())"
   ]
  },
  {
   "attachments": {},
   "cell_type": "markdown",
   "metadata": {},
   "source": [
    "This encodes using counts"
   ]
  },
  {
   "cell_type": "code",
   "execution_count": 70,
   "metadata": {},
   "outputs": [],
   "source": [
    "# create a list of variables on which this can be used and list with encoded variable names\n",
    "count_list=[\"property_type\",\"property_room_type\", \"property_zipcode\"]\n",
    "count_encode_list=[\"count_encoded\"+ i for i in count_list]\n",
    "for var, encoded_var in zip(count_list, count_encode_list):\n",
    "    # Create an instance of the CountEncoder class\n",
    "\n",
    "    encoder = CountEncoder()\n",
    "    # Fit the encoder to the column\n",
    "    encoder.fit(df_raw[var])\n",
    "    # Transform the column using the encoder\n",
    "    encoded_column = encoder.transform(df_raw[var])\n",
    "    # Add the encoded column to the original DataFrame\n",
    "    df_raw[encoded_var] = encoded_column\n",
    "\n",
    "\n",
    "print(count_encode_list)\n",
    "print(df_raw['count_encodedproperty_type'].head())"
   ]
  },
  {
   "attachments": {},
   "cell_type": "markdown",
   "metadata": {},
   "source": [
    "Cell below not important, just for review"
   ]
  },
  {
   "cell_type": "code",
   "execution_count": 76,
   "metadata": {},
   "outputs": [],
   "source": [
    "# Fit the encoder to the column\n",
    "encoder.fit(df_raw['property_zipcode'])\n",
    "# Add the encoded column to the original DataFrame\n",
    "df_raw['encoded_property_zipcode'] = encoder.transform(df_raw['property_zipcode'])"
   ]
  },
  {
   "attachments": {},
   "cell_type": "markdown",
   "metadata": {},
   "source": [
    "Encoding using weights of evidence=> but shouldn't really be used for continuous variables and code doesn't work"
   ]
  },
  {
   "cell_type": "code",
   "execution_count": null,
   "metadata": {},
   "outputs": [],
   "source": [
    "# create a list of variables on which this can be used and list with encoded variable names\n",
    "count_list=[\"property_type\",\"property_room_type\", \"property_zipcode\"]\n",
    "WOE_encode_list=[\"WOE_\"+ i for i in count_list]\n",
    "for var, encoded_var in zip(count_list, count_encode_list):\n",
    "    # Create an instance of the CountEncoder class\n",
    "\n",
    "    encoder = WOEEncoder()\n",
    "    # Fit the encoder to the column\n",
    "    encoder.fit(df_raw[var],df_raw['target'])\n",
    "    # Add the encoded column to the original DataFrame\n",
    "    df_raw[encoded_var] = encoder.transform(df_raw[var])\n",
    "\n",
    "\n",
    "print(WOE_encode_list)\n",
    "print(df_raw['WOEE_property_type'].head())\n"
   ]
  },
  {
   "attachments": {},
   "cell_type": "markdown",
   "metadata": {},
   "source": [
    "Finding ratio of max guest or beds per bathroom, bedroom or square meters"
   ]
  },
  {
   "attachments": {},
   "cell_type": "markdown",
   "metadata": {},
   "source": [
    "Below does not work yet!!\n",
    "find distance between 2 coordinate points\n",
    "\n",
    "ip code, long and lat\n",
    "    => find city and country to check if same as host: boolean columns https://pypi.org/project/pgeocode/\n",
    "    https://stackoverflow.com/questions/69409255/how-to-get-city-state-and-country-from-a-list-of-latitude-and-longitude-coordi\n",
    "    OR find long lat of host and estimate the distance to the property\n",
    "    => could even find distance to city centre using these methods\n",
    "    => use use counts in data or weights of evidence to encode these https://contrib.scikit-learn.org/category_encoders/count.html#\n",
    "    => maybe find a way of combining the three: the are obviously correlated!! \n",
    "    => start by using the zip code, then, the location within a city becomes important=> maybe \n",
    "    => or use one or the other and see which one is better"
   ]
  },
  {
   "cell_type": "code",
   "execution_count": 61,
   "metadata": {},
   "outputs": [
    {
     "ename": "SyntaxError",
     "evalue": "invalid syntax (1066247191.py, line 8)",
     "output_type": "error",
     "traceback": [
      "\u001b[1;36m  File \u001b[1;32m\"C:\\Users\\saaan\\AppData\\Local\\Temp\\ipykernel_8500\\1066247191.py\"\u001b[1;36m, line \u001b[1;32m8\u001b[0m\n\u001b[1;33m    print geopy.distance.geodesic(coords_1, coords_2).km\u001b[0m\n\u001b[1;37m          ^\u001b[0m\n\u001b[1;31mSyntaxError\u001b[0m\u001b[1;31m:\u001b[0m invalid syntax\n"
     ]
    }
   ],
   "source": [
    "#distance between two coordinate points\n",
    "\n",
    "import geopy.distance\n",
    "\n",
    "coords_1 = (52.2296756, 21.0122287)\n",
    "coords_2 = (52.406374, 16.9251681)\n",
    "\n",
    "print geopy.distance.geodesic(coords_1, coords_2).km\n",
    "\n",
    "\n",
    ">>> from geopy.distance import geodesic\n",
    ">>> newport_ri = (41.49008, -71.312796)\n",
    ">>> cleveland_oh = (41.499498, -81.695391)\n",
    ">>> print(geodesic(newport_ri, cleveland_oh).miles)\n",
    "538.390445368"
   ]
  },
  {
   "cell_type": "code",
   "execution_count": null,
   "metadata": {},
   "outputs": [],
   "source": [
    "from geopy.geocoders import Nominatim\n",
    "address='Nagpur'\n",
    "geolocator = Nominatim(user_agent=\"Sander\")\n",
    "location = geolocator.geocode(address)\n",
    "#print(location.address)\n",
    "print((location.latitude, location.longitude))\n",
    "location=location.latitude\n",
    "print(location)"
   ]
  },
  {
   "cell_type": "code",
   "execution_count": 98,
   "metadata": {},
   "outputs": [
    {
     "name": "stdout",
     "output_type": "stream",
     "text": [
      "0                             Brussels, Brussels, Belgium\n",
      "1                              Antwerp, Flanders, Belgium\n",
      "2                              Antwerp, Flanders, Belgium\n",
      "3                                                 Belgium\n",
      "4                                                 Belgium\n",
      "                              ...                        \n",
      "6490                          Brussels, Brussels, Belgium\n",
      "6491    Aix-en-Provence, Provence-Alpes-Côte d'Azur, F...\n",
      "6492                        Keerbergen, Flanders, Belgium\n",
      "6493                   Antwerpen, Flemish Region, Belgium\n",
      "6494                   Antwerpen, Flemish Region, Belgium\n",
      "Name: host_location, Length: 6495, dtype: object\n"
     ]
    }
   ],
   "source": [
    "print(df_raw['host_location'])\n",
    "df_raw[host_city]=\n",
    "for item in df_raw['host_location']:\n",
    "    df_raw['host_city']="
   ]
  }
 ],
 "metadata": {
  "kernelspec": {
   "display_name": "base",
   "language": "python",
   "name": "python3"
  },
  "language_info": {
   "codemirror_mode": {
    "name": "ipython",
    "version": 3
   },
   "file_extension": ".py",
   "mimetype": "text/x-python",
   "name": "python",
   "nbconvert_exporter": "python",
   "pygments_lexer": "ipython3",
   "version": "3.9.13"
  },
  "orig_nbformat": 4
 },
 "nbformat": 4,
 "nbformat_minor": 2
}
