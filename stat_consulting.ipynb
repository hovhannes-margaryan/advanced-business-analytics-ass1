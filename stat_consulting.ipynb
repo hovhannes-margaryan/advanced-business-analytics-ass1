{
 "cells": [
  {
   "cell_type": "markdown",
   "id": "81a5cb6c",
   "metadata": {},
   "source": [
    "- which locations need to be visited\n",
    "- which order should be visited \n",
    "- x and y coordintaes\n",
    "- Parse information, draw routes that are actually created \n",
    "- How is the route changing\n",
    "- Outliers\n",
    "- City, country side\n",
    "\n",
    "- Predict how this sequence is changing\n",
    "    - Which types of routes do we have (clustering)\n",
    "    - Visualize the routes, do they make sense\n",
    "    - Developping the model? Making choice of what you gonna do\n",
    "    - 80 hours (16 hours per person)"
   ]
  },
  {
   "cell_type": "code",
   "execution_count": 70,
   "id": "f12eada3",
   "metadata": {},
   "outputs": [],
   "source": [
    "# def read_route(request_file_name):\n",
    "#     return request_file_name.split(\"-\")[0]\n",
    "# merged['route_id'] = merged['request_file_name'].apply(read_route)"
   ]
  },
  {
   "cell_type": "code",
   "execution_count": 71,
   "id": "b661b7c6",
   "metadata": {},
   "outputs": [],
   "source": [
    "from pyspark.sql import Window, SparkSession\n",
    "import pyspark.sql.functions as F\n",
    "import os\n",
    "import json\n",
    "from os import listdir\n",
    "from os.path import isfile, join\n",
    "import pandas as pd\n",
    "\n",
    "def read_json(path):\n",
    "    with open(path) as f:\n",
    "        d = json.load(f)\n",
    "        return d\n",
    "\n",
    "def read_txt(path):\n",
    "    with open(path) as f:\n",
    "        return f.read()\n",
    "\n",
    "\n",
    "def get_files(path):\n",
    "    return [f for f in listdir(path) if isfile(join(path, f))]\n",
    "\n",
    "\n",
    "def get_directories(path):\n",
    "    return [name for name in os.listdir(path) if name != \".DS_Store\" and name != \"README.txt\"]\n",
    "\n"
   ]
  },
  {
   "cell_type": "markdown",
   "id": "c55d0526",
   "metadata": {},
   "source": [
    "### Obtain request data frame"
   ]
  },
  {
   "cell_type": "code",
   "execution_count": 72,
   "id": "681bb907",
   "metadata": {},
   "outputs": [],
   "source": [
    "requests_folders = \"/Users/ehambardzumy/Desktop/big_data/data/requests/\"\n",
    "directories = get_directories(requests_folders)"
   ]
  },
  {
   "cell_type": "code",
   "execution_count": 73,
   "id": "4704f529",
   "metadata": {},
   "outputs": [],
   "source": [
    "data_route_day = []\n",
    "requests_folders = \"/Users/ehambardzumy/Desktop/big_data/data/requests/\"\n",
    "directories = get_directories(requests_folders)\n",
    "\n",
    "for directory in directories:\n",
    "    route_day_directory = requests_folders+directory\n",
    "    files_route_day = get_files(route_day_directory)\n",
    "    for request_json in files_route_day:\n",
    "        \n",
    "        request_path = route_day_directory + \"/\" + request_json\n",
    "        request_dict = read_json(request_path)\n",
    "        for indx, route_point in enumerate(request_dict['tasks']):\n",
    "            timeWindow = route_point['timeWindow']\n",
    "            address = route_point['address']\n",
    "            data_point = {**timeWindow, **address, \n",
    "                          'id': route_point['id'], \n",
    "                          'request_id': request_dict['id'],\n",
    "                          'configurationName': request_dict['configurationName'],\n",
    "                          'request_file_name': request_json.split(\".\")[0]\n",
    "                         }\n",
    "            data_route_day.append(data_point)\n",
    "            \n",
    "request_full_df = pd.DataFrame(data_route_day)"
   ]
  },
  {
   "cell_type": "markdown",
   "id": "5d6a3639",
   "metadata": {},
   "source": [
    "### Obtain response data frame"
   ]
  },
  {
   "cell_type": "code",
   "execution_count": 74,
   "id": "2898ddb0",
   "metadata": {},
   "outputs": [],
   "source": [
    "data_route_day = []\n",
    "responses_folders = \"/Users/ehambardzumy/Desktop/big_data/data/responses/\"\n",
    "directories = get_directories(responses_folders)\n",
    "\n",
    "response_dfs = []\n",
    "for directory in directories:\n",
    "    route_day_directory = responses_folders+directory\n",
    "    files_route_day = get_files(route_day_directory)\n",
    "    for response in files_route_day:\n",
    "        response_path = route_day_directory + \"/\" + response\n",
    "        response_txt = read_txt(response_path)\n",
    "        \n",
    "        order_ids = response_txt.split(\"\\n\")\n",
    "        length = len(order_ids)\n",
    "        response_file_name = [response.split(\".\")[0]]*length\n",
    "        response_df = pd.DataFrame({\"id\":order_ids, \n",
    "                                    \"request_file_name\":response_file_name\n",
    "                                   })\n",
    "        \n",
    "        response_dfs.append(response_df)\n",
    "response_full_df = pd.concat(response_dfs)"
   ]
  },
  {
   "cell_type": "code",
   "execution_count": 75,
   "id": "6139ea7b",
   "metadata": {},
   "outputs": [
    {
     "data": {
      "text/html": [
       "<div>\n",
       "<style scoped>\n",
       "    .dataframe tbody tr th:only-of-type {\n",
       "        vertical-align: middle;\n",
       "    }\n",
       "\n",
       "    .dataframe tbody tr th {\n",
       "        vertical-align: top;\n",
       "    }\n",
       "\n",
       "    .dataframe thead th {\n",
       "        text-align: right;\n",
       "    }\n",
       "</style>\n",
       "<table border=\"1\" class=\"dataframe\">\n",
       "  <thead>\n",
       "    <tr style=\"text-align: right;\">\n",
       "      <th></th>\n",
       "      <th>id</th>\n",
       "      <th>request_file_name</th>\n",
       "    </tr>\n",
       "  </thead>\n",
       "  <tbody>\n",
       "    <tr>\n",
       "      <th>0</th>\n",
       "      <td>76805</td>\n",
       "      <td>0521_641-20220616-062619-165-165</td>\n",
       "    </tr>\n",
       "    <tr>\n",
       "      <th>1</th>\n",
       "      <td>76809</td>\n",
       "      <td>0521_641-20220616-062619-165-165</td>\n",
       "    </tr>\n",
       "    <tr>\n",
       "      <th>2</th>\n",
       "      <td>76850</td>\n",
       "      <td>0521_641-20220616-062619-165-165</td>\n",
       "    </tr>\n",
       "    <tr>\n",
       "      <th>3</th>\n",
       "      <td>76755</td>\n",
       "      <td>0521_641-20220616-062619-165-165</td>\n",
       "    </tr>\n",
       "    <tr>\n",
       "      <th>4</th>\n",
       "      <td>76759</td>\n",
       "      <td>0521_641-20220616-062619-165-165</td>\n",
       "    </tr>\n",
       "  </tbody>\n",
       "</table>\n",
       "</div>"
      ],
      "text/plain": [
       "      id                 request_file_name\n",
       "0  76805  0521_641-20220616-062619-165-165\n",
       "1  76809  0521_641-20220616-062619-165-165\n",
       "2  76850  0521_641-20220616-062619-165-165\n",
       "3  76755  0521_641-20220616-062619-165-165\n",
       "4  76759  0521_641-20220616-062619-165-165"
      ]
     },
     "execution_count": 75,
     "metadata": {},
     "output_type": "execute_result"
    }
   ],
   "source": [
    "response_full_df.head(5)"
   ]
  },
  {
   "cell_type": "markdown",
   "id": "2eb15756",
   "metadata": {},
   "source": [
    "### Feature engeneering"
   ]
  },
  {
   "cell_type": "code",
   "execution_count": 76,
   "id": "6e7f6b5d",
   "metadata": {},
   "outputs": [
    {
     "data": {
      "text/html": [
       "<div>\n",
       "<style scoped>\n",
       "    .dataframe tbody tr th:only-of-type {\n",
       "        vertical-align: middle;\n",
       "    }\n",
       "\n",
       "    .dataframe tbody tr th {\n",
       "        vertical-align: top;\n",
       "    }\n",
       "\n",
       "    .dataframe thead th {\n",
       "        text-align: right;\n",
       "    }\n",
       "</style>\n",
       "<table border=\"1\" class=\"dataframe\">\n",
       "  <thead>\n",
       "    <tr style=\"text-align: right;\">\n",
       "      <th></th>\n",
       "      <th>from</th>\n",
       "      <th>till</th>\n",
       "      <th>latitude</th>\n",
       "      <th>longitude</th>\n",
       "      <th>id</th>\n",
       "      <th>request_id</th>\n",
       "      <th>configurationName</th>\n",
       "      <th>request_file_name</th>\n",
       "    </tr>\n",
       "  </thead>\n",
       "  <tbody>\n",
       "    <tr>\n",
       "      <th>0</th>\n",
       "      <td>2022-06-16T07:30:00</td>\n",
       "      <td>2022-06-16T23:59:00</td>\n",
       "      <td>0.609201</td>\n",
       "      <td>0.342267</td>\n",
       "      <td>101</td>\n",
       "      <td>fd22a657-774b-4067-b800-94545eb597ad</td>\n",
       "      <td>AddToSequence</td>\n",
       "      <td>0521_641-20220616-191209-168-167</td>\n",
       "    </tr>\n",
       "    <tr>\n",
       "      <th>1</th>\n",
       "      <td>2022-06-16T07:30:00</td>\n",
       "      <td>2022-06-16T23:59:00</td>\n",
       "      <td>0.608148</td>\n",
       "      <td>0.339248</td>\n",
       "      <td>100</td>\n",
       "      <td>fd22a657-774b-4067-b800-94545eb597ad</td>\n",
       "      <td>AddToSequence</td>\n",
       "      <td>0521_641-20220616-191209-168-167</td>\n",
       "    </tr>\n",
       "    <tr>\n",
       "      <th>2</th>\n",
       "      <td>2022-06-16T07:30:00</td>\n",
       "      <td>2022-06-16T23:59:00</td>\n",
       "      <td>0.607441</td>\n",
       "      <td>0.338553</td>\n",
       "      <td>99</td>\n",
       "      <td>fd22a657-774b-4067-b800-94545eb597ad</td>\n",
       "      <td>AddToSequence</td>\n",
       "      <td>0521_641-20220616-191209-168-167</td>\n",
       "    </tr>\n",
       "    <tr>\n",
       "      <th>3</th>\n",
       "      <td>2022-06-16T07:30:00</td>\n",
       "      <td>2022-06-16T23:59:00</td>\n",
       "      <td>0.606546</td>\n",
       "      <td>0.338306</td>\n",
       "      <td>96</td>\n",
       "      <td>fd22a657-774b-4067-b800-94545eb597ad</td>\n",
       "      <td>AddToSequence</td>\n",
       "      <td>0521_641-20220616-191209-168-167</td>\n",
       "    </tr>\n",
       "    <tr>\n",
       "      <th>4</th>\n",
       "      <td>2022-06-16T07:30:00</td>\n",
       "      <td>2022-06-16T23:59:00</td>\n",
       "      <td>0.606498</td>\n",
       "      <td>0.338540</td>\n",
       "      <td>97</td>\n",
       "      <td>fd22a657-774b-4067-b800-94545eb597ad</td>\n",
       "      <td>AddToSequence</td>\n",
       "      <td>0521_641-20220616-191209-168-167</td>\n",
       "    </tr>\n",
       "  </tbody>\n",
       "</table>\n",
       "</div>"
      ],
      "text/plain": [
       "                  from                 till  latitude  longitude   id  \\\n",
       "0  2022-06-16T07:30:00  2022-06-16T23:59:00  0.609201   0.342267  101   \n",
       "1  2022-06-16T07:30:00  2022-06-16T23:59:00  0.608148   0.339248  100   \n",
       "2  2022-06-16T07:30:00  2022-06-16T23:59:00  0.607441   0.338553   99   \n",
       "3  2022-06-16T07:30:00  2022-06-16T23:59:00  0.606546   0.338306   96   \n",
       "4  2022-06-16T07:30:00  2022-06-16T23:59:00  0.606498   0.338540   97   \n",
       "\n",
       "                             request_id configurationName  \\\n",
       "0  fd22a657-774b-4067-b800-94545eb597ad     AddToSequence   \n",
       "1  fd22a657-774b-4067-b800-94545eb597ad     AddToSequence   \n",
       "2  fd22a657-774b-4067-b800-94545eb597ad     AddToSequence   \n",
       "3  fd22a657-774b-4067-b800-94545eb597ad     AddToSequence   \n",
       "4  fd22a657-774b-4067-b800-94545eb597ad     AddToSequence   \n",
       "\n",
       "                  request_file_name  \n",
       "0  0521_641-20220616-191209-168-167  \n",
       "1  0521_641-20220616-191209-168-167  \n",
       "2  0521_641-20220616-191209-168-167  \n",
       "3  0521_641-20220616-191209-168-167  \n",
       "4  0521_641-20220616-191209-168-167  "
      ]
     },
     "execution_count": 76,
     "metadata": {},
     "output_type": "execute_result"
    }
   ],
   "source": [
    "request_full_df.head(5)"
   ]
  },
  {
   "cell_type": "code",
   "execution_count": 77,
   "id": "64529c9f",
   "metadata": {},
   "outputs": [
    {
     "data": {
      "text/plain": [
       "(2572035, 2576770)"
      ]
     },
     "execution_count": 77,
     "metadata": {},
     "output_type": "execute_result"
    }
   ],
   "source": [
    "response_full_df.shape[0], request_full_df.shape[0]"
   ]
  },
  {
   "cell_type": "markdown",
   "id": "6e6b87a9",
   "metadata": {},
   "source": [
    "### Merge then so that the ids are in the same order as response"
   ]
  },
  {
   "cell_type": "code",
   "execution_count": 78,
   "id": "79deca9b",
   "metadata": {},
   "outputs": [],
   "source": [
    "merged = pd.merge(response_full_df, \n",
    "                  request_full_df, \n",
    "                  on = [\"request_file_name\", \"id\"])"
   ]
  },
  {
   "cell_type": "markdown",
   "id": "a4aa3de5",
   "metadata": {},
   "source": [
    "#### !!! Loss of couple of data points"
   ]
  },
  {
   "cell_type": "code",
   "execution_count": 79,
   "id": "b846a4a5",
   "metadata": {},
   "outputs": [
    {
     "data": {
      "text/plain": [
       "2572033"
      ]
     },
     "execution_count": 79,
     "metadata": {},
     "output_type": "execute_result"
    }
   ],
   "source": [
    "merged.shape[0]"
   ]
  },
  {
   "cell_type": "code",
   "execution_count": 80,
   "id": "d2eec113",
   "metadata": {},
   "outputs": [
    {
     "data": {
      "text/html": [
       "<div>\n",
       "<style scoped>\n",
       "    .dataframe tbody tr th:only-of-type {\n",
       "        vertical-align: middle;\n",
       "    }\n",
       "\n",
       "    .dataframe tbody tr th {\n",
       "        vertical-align: top;\n",
       "    }\n",
       "\n",
       "    .dataframe thead th {\n",
       "        text-align: right;\n",
       "    }\n",
       "</style>\n",
       "<table border=\"1\" class=\"dataframe\">\n",
       "  <thead>\n",
       "    <tr style=\"text-align: right;\">\n",
       "      <th></th>\n",
       "      <th>id</th>\n",
       "      <th>request_file_name</th>\n",
       "      <th>from</th>\n",
       "      <th>till</th>\n",
       "      <th>latitude</th>\n",
       "      <th>longitude</th>\n",
       "      <th>request_id</th>\n",
       "      <th>configurationName</th>\n",
       "    </tr>\n",
       "  </thead>\n",
       "  <tbody>\n",
       "    <tr>\n",
       "      <th>0</th>\n",
       "      <td>76805</td>\n",
       "      <td>0521_641-20220616-062619-165-165</td>\n",
       "      <td>2022-06-16T07:30:00</td>\n",
       "      <td>2022-06-16T23:59:00</td>\n",
       "      <td>0.535067</td>\n",
       "      <td>0.371578</td>\n",
       "      <td>c10b2cc7-b21e-4f38-b4d0-5fcbf52e9f86</td>\n",
       "      <td>EstimateTime</td>\n",
       "    </tr>\n",
       "    <tr>\n",
       "      <th>1</th>\n",
       "      <td>76809</td>\n",
       "      <td>0521_641-20220616-062619-165-165</td>\n",
       "      <td>2022-06-16T07:30:00</td>\n",
       "      <td>2022-06-16T23:59:00</td>\n",
       "      <td>0.535132</td>\n",
       "      <td>0.372101</td>\n",
       "      <td>c10b2cc7-b21e-4f38-b4d0-5fcbf52e9f86</td>\n",
       "      <td>EstimateTime</td>\n",
       "    </tr>\n",
       "    <tr>\n",
       "      <th>2</th>\n",
       "      <td>76850</td>\n",
       "      <td>0521_641-20220616-062619-165-165</td>\n",
       "      <td>2022-06-16T07:30:00</td>\n",
       "      <td>2022-06-16T23:59:00</td>\n",
       "      <td>0.535745</td>\n",
       "      <td>0.374195</td>\n",
       "      <td>c10b2cc7-b21e-4f38-b4d0-5fcbf52e9f86</td>\n",
       "      <td>EstimateTime</td>\n",
       "    </tr>\n",
       "    <tr>\n",
       "      <th>3</th>\n",
       "      <td>76755</td>\n",
       "      <td>0521_641-20220616-062619-165-165</td>\n",
       "      <td>2022-06-16T07:30:00</td>\n",
       "      <td>2022-06-16T23:59:00</td>\n",
       "      <td>0.536241</td>\n",
       "      <td>0.375161</td>\n",
       "      <td>c10b2cc7-b21e-4f38-b4d0-5fcbf52e9f86</td>\n",
       "      <td>EstimateTime</td>\n",
       "    </tr>\n",
       "    <tr>\n",
       "      <th>4</th>\n",
       "      <td>76759</td>\n",
       "      <td>0521_641-20220616-062619-165-165</td>\n",
       "      <td>2022-06-16T07:30:00</td>\n",
       "      <td>2022-06-16T23:59:00</td>\n",
       "      <td>0.536879</td>\n",
       "      <td>0.375186</td>\n",
       "      <td>c10b2cc7-b21e-4f38-b4d0-5fcbf52e9f86</td>\n",
       "      <td>EstimateTime</td>\n",
       "    </tr>\n",
       "  </tbody>\n",
       "</table>\n",
       "</div>"
      ],
      "text/plain": [
       "      id                 request_file_name                 from  \\\n",
       "0  76805  0521_641-20220616-062619-165-165  2022-06-16T07:30:00   \n",
       "1  76809  0521_641-20220616-062619-165-165  2022-06-16T07:30:00   \n",
       "2  76850  0521_641-20220616-062619-165-165  2022-06-16T07:30:00   \n",
       "3  76755  0521_641-20220616-062619-165-165  2022-06-16T07:30:00   \n",
       "4  76759  0521_641-20220616-062619-165-165  2022-06-16T07:30:00   \n",
       "\n",
       "                  till  latitude  longitude  \\\n",
       "0  2022-06-16T23:59:00  0.535067   0.371578   \n",
       "1  2022-06-16T23:59:00  0.535132   0.372101   \n",
       "2  2022-06-16T23:59:00  0.535745   0.374195   \n",
       "3  2022-06-16T23:59:00  0.536241   0.375161   \n",
       "4  2022-06-16T23:59:00  0.536879   0.375186   \n",
       "\n",
       "                             request_id configurationName  \n",
       "0  c10b2cc7-b21e-4f38-b4d0-5fcbf52e9f86      EstimateTime  \n",
       "1  c10b2cc7-b21e-4f38-b4d0-5fcbf52e9f86      EstimateTime  \n",
       "2  c10b2cc7-b21e-4f38-b4d0-5fcbf52e9f86      EstimateTime  \n",
       "3  c10b2cc7-b21e-4f38-b4d0-5fcbf52e9f86      EstimateTime  \n",
       "4  c10b2cc7-b21e-4f38-b4d0-5fcbf52e9f86      EstimateTime  "
      ]
     },
     "execution_count": 80,
     "metadata": {},
     "output_type": "execute_result"
    }
   ],
   "source": [
    "merged.head(5)"
   ]
  },
  {
   "cell_type": "code",
   "execution_count": 81,
   "id": "f6d2b2ab",
   "metadata": {},
   "outputs": [
    {
     "data": {
      "text/plain": [
       "['AddToSequence', 'CreateSequence', 'EstimateTime']"
      ]
     },
     "execution_count": 81,
     "metadata": {},
     "output_type": "execute_result"
    }
   ],
   "source": [
    "list(set(merged.configurationName))"
   ]
  },
  {
   "cell_type": "markdown",
   "id": "40c27c85",
   "metadata": {},
   "source": [
    "1. Group by request_file_name\n",
    "2. Compute route length (number of points) \n",
    "3. Average euclidean distance between consecutive points\n",
    "3. Maximum euclidean distance \n",
    "4. Total distance\n",
    "\n",
    "5. the removed point has a reasoning behing to be discovered\n",
    "   - Average distance of the point relative to other points as\n",
    "   - The point must be removed if exceeding certain distance treshold \n",
    "   - How many estimate times were needed to remove a point"
   ]
  },
  {
   "cell_type": "markdown",
   "id": "36594231",
   "metadata": {},
   "source": [
    "## Route level metrics\n",
    "- Route length - number of points\n",
    "- Average euclidean distance between consecutive points\n",
    "- Maximum euclidean distance\n",
    "- Total distance\n",
    "- How many estiamte times were performed\n",
    "- Should we drop duplicate estimate times? \n",
    "    - (in the sense that the number of tasks has not changed)\n",
    "- "
   ]
  },
  {
   "cell_type": "code",
   "execution_count": 83,
   "id": "12409e77",
   "metadata": {},
   "outputs": [],
   "source": [
    "merged['latitude_next'] = (merged.groupby(['request_file_name'])['latitude'].shift(-1))\n",
    "merged['longitude_next'] = (merged.groupby(['request_file_name'])['longitude'].shift(-1))\n",
    "\n",
    "merged.to_csv(\"./merged.csv\", index=False)"
   ]
  }
 ],
 "metadata": {
  "kernelspec": {
   "display_name": "Python 3 (ipykernel)",
   "language": "python",
   "name": "python3"
  },
  "language_info": {
   "codemirror_mode": {
    "name": "ipython",
    "version": 3
   },
   "file_extension": ".py",
   "mimetype": "text/x-python",
   "name": "python",
   "nbconvert_exporter": "python",
   "pygments_lexer": "ipython3",
   "version": "3.9.6"
  }
 },
 "nbformat": 4,
 "nbformat_minor": 5
}
